{
 "cells": [
  {
   "cell_type": "code",
   "execution_count": 2,
   "id": "a3c44466",
   "metadata": {},
   "outputs": [],
   "source": [
    "import torch\n",
    "import torch.nn as nn\n",
    "import torch.optim as optim\n",
    "from torch.utils.data import Dataset, DataLoader\n",
    "\n",
    "import h5py\n",
    "import numpy as np\n",
    "import matplotlib.pyplot as plt\n",
    "\n",
    "from pathlib import Path"
   ]
  },
  {
   "cell_type": "code",
   "execution_count": 8,
   "id": "e853713e",
   "metadata": {},
   "outputs": [],
   "source": [
    "class Config:\n",
    "    SIGNALS_PATH = '/home/hbakhshi/Desktop/Projects/Computational/Data/'\n",
    "    BKG_PATH = '/home/hbakhshi/Desktop/Projects/Computational/Data'\n",
    "    SIGNALS = ['WZ_jjnunu_pT_450_1200_test.h5']\n",
    "    BKGS = ['QCDjj_pT_450_1200_test.h5']\n",
    "    IMAGE_SIZE = 32\n",
    "    BATCH_SIZE = 64\n",
    "    EPOCHS = 10\n",
    "    LR = 1e-3\n",
    "    NUM_CLASSES = 2        \n",
    "    DEVICE = torch.device(\"cuda\" if torch.cuda.is_available() else \"cpu\")\n",
    "\n",
    "def AllFiles():\n",
    "    ret = []\n",
    "    for signal in Config.SIGNALS:\n",
    "        ret.append(Path(Config.SIGNALS_PATH) / signal)\n",
    "    for bkg in Config.BKGS:\n",
    "        ret.append(Path(Config.BKG_PATH) / bkg)\n",
    "    return ret\n",
    "def GetLabels():\n",
    "    labels = []\n",
    "    for signal in Config.SIGNALS:\n",
    "        labels.append(1)  # Signal class\n",
    "    for bkg in Config.BKGS:\n",
    "        labels.append(0)  # Background class\n",
    "    return labels\n",
    "\n",
    "\n",
    "\n",
    "\n"
   ]
  },
  {
   "cell_type": "code",
   "execution_count": 22,
   "id": "0dce2b2e",
   "metadata": {},
   "outputs": [],
   "source": [
    "def create_image(pt, mass , charge , eta, phi, size):\n",
    "    image = np.zeros((size, size , 3), dtype=np.float32)\n",
    "\n",
    "    min_eta = np.min(eta)\n",
    "    max_eta = np.max(eta)\n",
    "    phi = np.mod(phi + np.pi, 2 * np.pi) - np.pi\n",
    "\n",
    "    eta_idx = (((eta - min_eta) / (max_eta - min_eta)) * (size - 1)).astype(int)\n",
    "    phi_idx = (((phi + np.pi) / (2 * np.pi)) * (size - 1)).astype(int)\n",
    "\n",
    "    for i in range(len(pt)):\n",
    "        if pt[i] > 0:\n",
    "            x, y = eta_idx[i], phi_idx[i]\n",
    "            image[y, x , 0] += pt[i]\n",
    "            image[y, x , 1] += mass[i]\n",
    "            image[y, x , 2] += charge[i]\n",
    "    \n",
    "    image[:,:,0] /= np.max(image[:,:,0]) if np.max(image[:,:,0]) > 0 else 1\n",
    "    image[:,:,1] /= np.max(image[:,:,1]) if np.max(image[:,:,1]) > 0 else 1\n",
    "    image[:,:,2] /= np.max(image[:,:,2]) if np.max(image[:,:,2]) > 0 else 1\n",
    "\n",
    "    return image\n"
   ]
  },
  {
   "cell_type": "code",
   "execution_count": 23,
   "id": "b9c85d43",
   "metadata": {},
   "outputs": [],
   "source": [
    "class JetImageDataset(Dataset):\n",
    "    def __init__(self, h5_paths, labels , image_size  , n_jets = -1):\n",
    "        super(JetImageDataset, self).__init__()\n",
    "\n",
    "        self.pt = None\n",
    "        self.eta = None\n",
    "        self.phi = None\n",
    "        self.mass = None\n",
    "        self.charge = None\n",
    "        self.labels = np.array([])\n",
    "        for h5_path , lbl in zip(h5_paths, labels):\n",
    "            if not Path(h5_path).exists():\n",
    "                raise FileNotFoundError(f\"File {h5_path} does not exist.\")\n",
    "            with h5py.File(h5_path, 'r') as f:\n",
    "                cnsts = f[\"objects/jets/jet1_cnsts\"][:n_jets]\n",
    "                #jets = f[\"objects/jets/jet1_obs\"][:n_jets]\n",
    "                if self.pt is None:\n",
    "                    self.pt = cnsts[:,:,0]\n",
    "                    self.eta = cnsts[:,:,1]\n",
    "                    self.phi = cnsts[:,:,2]\n",
    "                    self.mass = cnsts[:,:,3]\n",
    "                    self.charge = cnsts[:,:,4]\n",
    "                else:\n",
    "                    self.pt = np.concatenate( [self.pt ,  cnsts[:,:,0]] )\n",
    "                    self.eta = np.concatenate( [self.eta ,  cnsts[:,:,1]] )\n",
    "                    self.phi = np.concatenate( [self.phi ,  cnsts[:,:,2]] )\n",
    "                    self.mass = np.concatenate( [self.mass ,  cnsts[:,:,3]] )\n",
    "                    self.charge = np.concatenate( [self.charge ,  cnsts[:,:,4]] )\n",
    "\n",
    "                njets = cnsts.shape[0]\n",
    "                self.labels = np.concatenate( [self.labels , np.full(njets, lbl)] )\n",
    "        \n",
    "        self.image_size = image_size\n",
    "\n",
    "    def __len__(self):\n",
    "        return len(self.pt)\n",
    "\n",
    "    def __getitem__(self, idx):\n",
    "        image = create_image(self.pt[idx] , self.mass[idx], self.charge[idx] ,  self.eta[idx], self.phi[idx], self.image_size)\n",
    "        image = torch.tensor(image).unsqueeze(0)  # اضافه کردن کانال\n",
    "        label = torch.tensor(self.labels[idx]).long()\n",
    "        return image, label\n"
   ]
  },
  {
   "cell_type": "code",
   "execution_count": 24,
   "id": "12ba942b",
   "metadata": {},
   "outputs": [],
   "source": [
    "j = JetImageDataset( AllFiles(), GetLabels(), Config.IMAGE_SIZE, n_jets=100)"
   ]
  },
  {
   "cell_type": "code",
   "execution_count": 28,
   "id": "93e81c7d",
   "metadata": {},
   "outputs": [
    {
     "name": "stderr",
     "output_type": "stream",
     "text": [
      "Clipping input data to the valid range for imshow with RGB data ([0..1] for floats or [0..255] for integers).\n"
     ]
    },
    {
     "data": {
      "text/plain": [
       "<matplotlib.image.AxesImage at 0x7f76d8fcf820>"
      ]
     },
     "execution_count": 28,
     "metadata": {},
     "output_type": "execute_result"
    },
    {
     "data": {
      "image/png": "[encoded data removed]",
      "text/plain": [
       "<Figure size 640x480 with 1 Axes>"
      ]
     },
     "metadata": {},
     "output_type": "display_data"
    }
   ],
   "source": [
    "from matplotlib import pyplot as plt\n",
    "plt.imshow( j[120][0][0,:,:,:] )"
   ]
  },
  {
   "cell_type": "code",
   "execution_count": null,
   "id": "b9a5472b",
   "metadata": {},
   "outputs": [],
   "source": [
    "class CNNClassifier(nn.Module):\n",
    "    def __init__(self, num_classes):\n",
    "        super(CNNClassifier, self).__init__()\n",
    "        self.net = nn.Sequential(\n",
    "            nn.Conv2d(1, 16, kernel_size=3, padding=1), nn.ReLU(),\n",
    "            nn.MaxPool2d(2),\n",
    "            nn.Conv2d(16, 32, kernel_size=3, padding=1), nn.ReLU(),\n",
    "            nn.MaxPool2d(2),\n",
    "            nn.Flatten(),\n",
    "            nn.Linear(32 * (Config.IMAGE_SIZE // 4) ** 2, 64), nn.ReLU(),\n",
    "            nn.Linear(64, num_classes)\n",
    "        )\n",
    "\n",
    "    def forward(self, x):\n",
    "        return self.net(x)\n"
   ]
  },
  {
   "cell_type": "code",
   "execution_count": null,
   "id": "1dafc07d",
   "metadata": {},
   "outputs": [],
   "source": [
    "def train(model, loader, criterion, optimizer, epochs, device):\n",
    "    model.train()\n",
    "    loss_history = []\n",
    "\n",
    "    for epoch in range(epochs):\n",
    "        epoch_loss = 0\n",
    "        for images, labels in loader:\n",
    "            images, labels = images.to(device), labels.to(device)\n",
    "\n",
    "            optimizer.zero_grad()\n",
    "            outputs = model(images)\n",
    "            loss = criterion(outputs, labels)\n",
    "            loss.backward()\n",
    "            optimizer.step()\n",
    "\n",
    "            epoch_loss += loss.item()\n",
    "\n",
    "        avg_loss = epoch_loss / len(loader)\n",
    "        loss_history.append(avg_loss)\n",
    "        print(f\"[Epoch {epoch+1}/{epochs}] Loss: {avg_loss:.4f}\")\n",
    "\n",
    "    return loss_history\n"
   ]
  },
  {
   "cell_type": "code",
   "execution_count": null,
   "id": "9d7e8be1",
   "metadata": {},
   "outputs": [],
   "source": [
    "def plot_losses(losses):\n",
    "    plt.figure(figsize=(8, 5))\n",
    "    plt.plot(losses, marker='o')\n",
    "    plt.title(\"Training Loss\")\n",
    "    plt.xlabel(\"Epoch\")\n",
    "    plt.ylabel(\"Loss\")\n",
    "    plt.grid(True)\n",
    "    plt.show()\n"
   ]
  },
  {
   "cell_type": "code",
   "execution_count": null,
   "id": "346cf94b",
   "metadata": {},
   "outputs": [],
   "source": [
    "dataset = JetImageDataset(Config.FILE_PATH, Config.IMAGE_SIZE)\n",
    "dataloader = DataLoader(dataset, batch_size=Config.BATCH_SIZE, shuffle=True)\n",
    "\n",
    "model = CNNClassifier(Config.NUM_CLASSES).to(Config.DEVICE)\n",
    "criterion = nn.CrossEntropyLoss()\n",
    "optimizer = optim.Adam(model.parameters(), lr=Config.LR)\n",
    "\n",
    "losses = train(model, dataloader, criterion, optimizer, Config.EPOCHS, Config.DEVICE)\n",
    "\n",
    "plot_losses(losses)\n"
   ]
  },
  {
   "cell_type": "code",
   "execution_count": null,
   "id": "133c5a3f",
   "metadata": {},
   "outputs": [],
   "source": []
  }
 ],
 "metadata": {
  "@webio": {
   "lastCommId": null,
   "lastKernelId": null
  },
  "kernelspec": {
   "display_name": "physcomp",
   "language": "python",
   "name": "python3"
  },
  "language_info": {
   "codemirror_mode": {
    "name": "ipython",
    "version": 3
   },
   "file_extension": ".py",
   "mimetype": "text/x-python",
   "name": "python",
   "nbconvert_exporter": "python",
   "pygments_lexer": "ipython3",
   "version": "3.8.10"
  }
 },
 "nbformat": 4,
 "nbformat_minor": 5
}

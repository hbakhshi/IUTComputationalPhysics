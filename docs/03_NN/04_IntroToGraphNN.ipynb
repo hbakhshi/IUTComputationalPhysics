{
 "cells": [
  {
   "cell_type": "markdown",
   "id": "4796717d",
   "metadata": {},
   "source": [
    "# مقدمه ای بر شبکه‌ی عصبی گرافی"
   ]
  },
  {
   "cell_type": "markdown",
   "id": "cb764f75",
   "metadata": {},
   "source": []
  }
 ],
 "metadata": {
  "language_info": {
   "name": "python"
  }
 },
 "nbformat": 4,
 "nbformat_minor": 5
}

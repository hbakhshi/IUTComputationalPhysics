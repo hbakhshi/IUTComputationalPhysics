{
 "cells": [
  {
   "cell_type": "markdown",
   "id": "aa00e6b8",
   "metadata": {},
   "source": [
    "# یادگیری عمیق ماشین در فیزیک\n",
    "\n",
    "<embed src=\"../_static/DL_ForFundamentalPhysics.pdf\" width=\"800px\" height=\"600px\" type=\"application/pdf\">"
   ]
  }
 ],
 "metadata": {
  "language_info": {
   "name": "python"
  }
 },
 "nbformat": 4,
 "nbformat_minor": 5
}

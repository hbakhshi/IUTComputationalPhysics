{
 "cells": [
  {
   "cell_type": "markdown",
   "id": "b698fc1d",
   "metadata": {},
   "source": [
    "# آماده سازی داده ها\n",
    "در ادامه کلاس بحث را به صورت تخصصی تر در مورد فیزیک ذرات پیش می‌بریم. برای بررسی مسئله‌ای در دنیای فیزیک ذرات نیاز داریم داده های از این دنیا داشته باشیم. مجموعه داده مورد بررسی ما که جزئیات آن در مقاله ‌با عنوان RODEM Jet Datasets آمده است با نگاه به دنیا ذرات و جت ها آماده شده است \n",
    "\n",
    "---"
   ]
  },
  {
   "cell_type": "markdown",
   "id": "4936d914",
   "metadata": {},
   "source": [
    "## جت\n",
    "تعریف ساده:\n",
    "\n",
    "جت‌ها خوشه‌هایی از ذرات باردار یا خنثی هستند که با زاویه‌ی کمی نسبت به جهت حرکت اولیه‌ی یک کوارک یا گلئون تولید می‌شوند.\n",
    "\n",
    "کوارک‌ها و گلئون‌ها نمی‌توانند به‌صورت تنها (آزاد) وجود داشته باشند چون تحت تأثیر نیروی قوی (QCD) قرار دارند که آن‌ها را درون هادرون‌ها (مثل پروتون، نوترون، پیون) نگه می‌دارد.\n",
    "وقتی در یک برخورد پرانرژی (مثلاً برخورد پروتون‌ها در LHC) یک کوارک یا گلئون با انرژی بالا تولید می‌شود، نمی‌تواند آزاد باقی بماند. در عوض، از طریق فرایندی به نام \"همبستگی رنگی و هادرون‌سازی\" (hadronization)، انرژی‌اش را به صورت مجموعه‌ای از ذرات هادرونی پخش می‌کند—که به آن جت می‌گوییم.\n",
    "\n",
    "---\n",
    "### بوستد جت (Boosted Jet)\n",
    "\n",
    "در فیزیک انرژی بالا، به‌ویژه در آزمایش‌هایی مانند LHC، اصطلاح **بوستد جت (Boosted Jet)** به جتی اشاره دارد که از واپاشی یک ذره‌ی سنگین و پرانرژی (مانند بوزون W، Z، هیگز یا توپ کوارک) تولید شده و محصولات واپاشی آن به دلیل حرکت نسبیتی با انرژی زیاد، در زاویه‌ای بسیار باریک ظاهر می‌شوند. در نتیجه، به جای دو یا چند جت مجزا، فقط یک جت بزرگ دیده می‌شود.\n",
    "\n",
    "---\n",
    "\n",
    "### تعریف ساده\n",
    "\n",
    "وقتی یک ذره سنگین با انرژی بالا تولید می‌شود و به چند کوارک واپاشی می‌کند، این کوارک‌ها معمولاً جت‌هایی مجزا تشکیل می‌دهند. اما اگر انرژی ذره بسیار زیاد باشد، محصولات واپاشی تقریباً در همان جهت حرکت می‌کنند و همه‌ی آن‌ها در یک جت بزرگ و فشرده دیده می‌شوند. به این نوع جت‌ها، **بوستد جت** می‌گویند.\n",
    "\n",
    "---\n",
    "\n",
    "### ویژگی‌های کلیدی بوستد جت‌ها\n",
    "\n",
    "| ویژگی | توضیح |\n",
    "|-------|-------|\n",
    "| زاویه‌ی واپاشی باریک | محصولات واپاشی در زاویه‌ای بسیار کوچک از هم جدا می‌شوند. |\n",
    "| استفاده از R بزرگ‌تر | برای بازسازی جت، پارامتر مخروط جت (R) باید بزرگ‌تر از حالت عادی باشد (مثلاً R = 0.8 به جای R = 0.4). |\n",
    "| ساختار داخلی پیچیده | جت ممکن است دارای زیرجت‌هایی باشد که نشان‌دهنده واپاشی چند ذره درون یک جت هستند. |\n",
    "| نیاز به تحلیل Jet Substructure | برای شناسایی نوع ذره والد باید ساختار داخلی جت تحلیل شود. |\n",
    "\n",
    "---\n",
    "\n",
    "### اهمیت بوستد جت‌ها\n",
    "\n",
    "- در انرژی‌های بالا مانند در LHC، بسیاری از ذرات سنگین به صورت بوست‌شده تولید می‌شوند.\n",
    "- تحلیل بوستد جت‌ها به شناسایی ذرات بنیادی مانند توپ کوارک یا بوزون W کمک می‌کند.\n",
    "- در جستجو برای فیزیک نوین (مانند SUSY یا مدل‌های اکسترا دایمنشن)، بسیاری از سیگنال‌ها شامل بوستد جت هستند.\n",
    "- شناسایی دقیق آن‌ها می‌تواند زمینه‌ساز کشف ذرات جدید یا تأیید مدل‌های نظری باشد.\n",
    "\n",
    "---\n",
    "\n",
    "### روش‌ها و ابزارهای تحلیل بوستد جت‌ها\n",
    "\n",
    "| ابزار / تکنیک | کاربرد |\n",
    "|----------------|--------|\n",
    "| `FastJet` | خوشه‌بندی ذرات برای ساختن جت |\n",
    "| `N-subjettiness` | تعیین تعداد زیرجت‌ها در یک جت بوست‌شده |\n",
    "| `Mass Drop Tagger`, `Soft Drop`, `Trimming` | تکنیک‌های حذف انرژی‌های نرم برای یافتن ساختار اصلی جت |\n",
    "| `Deep Learning` (CNN / GNN) | تشخیص الگوهای پیچیده در ساختار جت به کمک تصویر یا گراف |\n",
    "| `ROOT` | تحلیل داده‌ها و ترسیم توزیع‌های آماری جت‌ها |\n",
    "\n",
    "---\n",
    "\n",
    "### مقایسه جت‌های معمولی با بوستد جت‌ها\n",
    "\n",
    "| ویژگی | جت معمولی | بوستد جت |\n",
    "|--------|------------|------------|\n",
    "| تعداد جت‌ها در واپاشی | چند جت مجزا | یک جت بزرگ |\n",
    "| فاصله بین محصولات واپاشی | زیاد | کم |\n",
    "| ساختار داخلی | ساده | پیچیده (زیرجت دارد) |\n",
    "| نیاز به تحلیل Substructure | معمولاً نه | بله |\n",
    "\n",
    "---\n",
    "\n",
    "---\n",
    "\n",
    "### نقش بوستد جت‌ها در تشخیص W و Z در داده‌های تجربی\n",
    "\n",
    "در فرآیندهایی مانند تولید همزمان بوزون‌های **W** و **Z** (فرآیند WZ)، شناسایی دقیق جت‌هایی که از واپاشی این ذرات به دست می‌آیند، اهمیت بالایی دارد. زمانی که این بوزون‌ها با انرژی بالا تولید می‌شوند (مثلاً در برخورددهنده‌ی LHC)، محصولات واپاشی آن‌ها بسیار فشرده ظاهر می‌شوند و به صورت **بوستد جت** دیده می‌شوند.\n",
    "\n",
    "---\n",
    "\n",
    "#### چرا بوستد جت‌ها در تشخیص W/Z مهم هستند؟\n",
    "\n",
    "- **واپاشی‌های hadronic بوزون‌ها**: هم W و هم Z می‌توانند به جفت‌های کوارک واپاشی کنند (مثلاً \\( W \\to q\\bar{q}' \\)، \\( Z \\to q\\bar{q} \\)) که این کوارک‌ها تبدیل به جت می‌شوند.\n",
    "  \n",
    "- **در انرژی‌های بالا، دو جت → یک جت بوست‌شده**: به دلیل لورنتز بوست، این دو جت در زاویه‌ی کوچکی از هم ظاهر می‌شوند و در نتیجه **فقط یک جت بزرگ دیده می‌شود**.\n",
    "\n",
    "- **ساختار داخلی جت (Jet Substructure)**: برای تشخیص اینکه این جت متعلق به بوزون W یا Z است (یا حتی توپ کوارک)، باید ساختار داخلی آن بررسی شود (تعداد زیرجت‌ها، نسبت جرم، تقسیم‌بندی انرژی و ...).\n",
    "\n",
    "- **تشخیص کلاس W در برابر Z**: از آنجایی که جرم بوزون W (حدود 80 GeV) با Z (حدود 91 GeV) متفاوت است، تحلیل دقیق بوستد جت‌ها می‌تواند برای **کلاسه‌بندی دقیق بین W و Z** به کار رود.\n",
    "\n",
    "\n",
    "````{dropdown} شکل بوست شدن جت ها\n",
    ":animate: fade-in-slide-down\n",
    "\n",
    "هر چقدر جت ها تکانه اولیه بیشتری داشته باشند بیشتر بوستد میشنود و به صورت یک جت دیده خواهند شد\n",
    "\n",
    "![](../_static/images/boosted1.png)\n",
    "\n",
    "\n",
    "\n",
    "````\n",
    "\n",
    "---\n",
    "\n",
    "#### جمع‌بندی در زمینه‌ی WZ\n",
    "\n",
    "در پروژه‌هایی مانند جداسازی WZ از پس‌زمینه QCD یا سایر فرآیندها، تحلیل دقیق بوستد جت‌ها ابزار اصلی برای:\n",
    "\n",
    "- **افزایش دقت مدل‌های طبقه‌بندی (کلاسه‌بندی W/Z)**\n",
    "- **کاهش نویز و پس‌زمینه‌ها (background rejection)**\n",
    "- **استفاده از تکنیک‌های یادگیری ماشین مانند CNN و GNN**\n",
    "\n",
    "است. بدون تحلیل ساختار بوستد جت، تشخیص دقیق W از Z تقریباً غیرممکن است.\n",
    "\n",
    "بنابراین، بوستد جت‌ها یکی از کلیدهای اصلی برای استخراج سیگنال WZ در داده‌های فیزیک انرژی بالا هستند.\n",
    "\n",
    "\n"
   ]
  },
  {
   "cell_type": "markdown",
   "id": "9ee6965d",
   "metadata": {},
   "source": [
    "## داده ها\n",
    "### ساختار داده‌ها در مقاله \n",
    "\n",
    "این مجموعه داده‌ها برای یادگیری ماشین در فیزیک ذرات طراحی شده‌اند و شامل جت‌هایی از فرایندهای SM و BSM هستند. فرمت فایل‌ها `.hdf5` است و اطلاعات جت‌ها و مؤلفه‌های آن‌ها را به‌صورت ساختاریافته در اختیار قرار می‌دهد.\n",
    "\n",
    "### ساختار فایل HDF5\n",
    "\n",
    "هر فایل دارای گروه اصلی `objects/jets` است که شامل ۴ بخش زیر است:\n",
    "\n",
    "---\n",
    "\n",
    "#### 🔹 `jet1_obs` — ویژگی‌های سطح جت اول (Leading Jet)\n",
    "- ابعاد: `(N, 11)` برای N ایونت.\n",
    "- ویژگی‌ها:\n",
    "  - `pt`, `eta`, `phi`, `mass`\n",
    "  - متریک‌های ساختار زیر (Substructure):\n",
    "    - τ₁، τ₂، τ₃ (N-subjettiness)\n",
    "    - √d₁₂، √d₂₃ (splitting scales)\n",
    "    - ECF₂، ECF₃ (energy correlation functions)\n",
    "\n",
    "---\n",
    "\n",
    "#### 🔹 `jet1_cnsts` — اطلاعات مؤلفه‌های جت اول\n",
    "- ابعاد: `(N, 100, 7)`\n",
    "- برای هر ایونت تا ۱۰۰ ذره با بیشترین `pt` ذخیره شده‌اند.\n",
    "- ویژگی‌های هر مؤلفه:\n",
    "  - `pt`, `eta`, `phi`, `mass`, `charge`, `d0`, `dz`\n",
    "  - `d0` و `dz` فقط برای ذرات باردار پر شده‌اند.\n",
    "\n",
    "---\n",
    "\n",
    "#### 🔹 `jet2_obs` و `jet2_cnsts` — مربوط به جت دوم (Subleading Jet)\n",
    "- فقط در ایونت‌های SM (مثل QCD و tt̄ و WZ) وجود دارند.\n",
    "- ساختار دقیقاً مشابه `jet1_obs` و `jet1_cnsts`.\n",
    "\n",
    "---\n",
    "\n",
    "### جزئیات شبیه‌سازی\n",
    "\n",
    "- √s = 13 TeV (مطابق با LHC Run 2)\n",
    "- MadGraph5 → MadSpin → Pythia8 → Delphes → FastJet\n",
    "- الگوریتم خوشه‌بندی جت: anti‑kt با R=1.0\n",
    "\n",
    "---\n",
    "\n",
    "### فرایندهای تولید شده\n",
    "\n",
    "| فرآیند             | توضیح کوتاه                        |\n",
    "|--------------------|------------------------------------|\n",
    "| QCD dijet          | جت‌های حاصل از کوارک/گلئون         |\n",
    "| WZ                 | جت‌های حاصل از W → jj              |\n",
    "| tt̄                | واپاشی هادرونیک تاپ کوارک          |\n",
    "| Semi‑visible jets  | حاصل از واپاشی Z′ به q_dark        |\n",
    "| BSM (2HDM)         | واپاشی Higgs سنگین به h± → jj, tb |\n",
    "\n",
    "---\n",
    "\n",
    "### بررسی داده‌ها\n",
    "\n",
    "| فرآیند        | تعداد ایونت‌ها | تقسیم Train/Val/Test |\n",
    "|---------------|----------------|------------------------|\n",
    "| QCD dijet     | ≈ 9.56M        | 90% / 5% / 5%          |\n",
    "| tt̄           | ≈ 15.0M        | 90% / 5% / 5%          |\n",
    "| WZ            | ≈ 14.1M        | 90% / 5% / 5%          |\n",
    "| Semi-visible  | ≈ 0.91M        | 90% / 5% / 5%          |\n",
    "| 2HDM (BSM)     | ≤ 90.4k        | بدون تقسیم‌بندی        |\n",
    "\n",
    "---\n",
    "\n",
    "#### متریک‌های ساختار جت\n",
    "\n",
    "- **N‑subjettiness (τ₁, τ₂, τ₃)**: نشان می‌دهد جت چند زیردسته دارد.\n",
    "- **Splitting Scales (√d₁₂, √d₂₃)**: مقیاس انرژی برای جدا شدن زیرجت‌ها.\n",
    "- **ECF₂, ECF₃**: هم‌بستگی انرژی بین ذرات جت، مناسب برای تشخیص هندسه داخلی.\n",
    "\n",
    "---\n",
    "\n",
    "#### کاربردها در یادگیری ماشین\n",
    "\n",
    "- طبقه‌بندی جت‌ها (QCD vs top/W/Z vs BSM)\n",
    "- تشخیص ناهنجاری‌ها (Anomaly Detection)\n",
    "- آموزش مدل‌های generative و autoencoder\n",
    "- استفاده در GNN، CNN یا Transformer برای شناسایی ساختار جت\n",
    "---\n",
    "---\n",
    "---\n",
    "\n"
   ]
  },
  {
   "cell_type": "markdown",
   "id": "b1fdcd15",
   "metadata": {},
   "source": [
    "## دانلود و آماده سازی فایل"
   ]
  },
  {
   "cell_type": "code",
   "execution_count": 6,
   "id": "048a4a96",
   "metadata": {},
   "outputs": [
    {
     "name": "stdout",
     "output_type": "stream",
     "text": [
      "Extracting...\n",
      "Extraction completed.\n"
     ]
    }
   ],
   "source": [
    "import urllib.request\n",
    "import tarfile\n",
    "\n",
    "filename = 'CPHdata.tar.gz'\n",
    "\n",
    "# دانلود فایل\n",
    "print('Downloading...')\n",
    "urllib.request.urlretrieve(\"https://hbakhshi.web.cern.ch/hbakhshi/IUT/TMP/CPHdata.tar.gz\", filename)\n",
    "print('Download completed.')\n",
    "\n",
    "# استخراج فایل tar.gz\n",
    "print('Extracting...')\n",
    "with tarfile.open(filename, 'r:gz') as tar:\n",
    "    tar.extractall(path=\".\")\n",
    "print('Extraction completed.')\n"
   ]
  },
  {
   "cell_type": "markdown",
   "id": "9ac1d8f5",
   "metadata": {},
   "source": [
    "## ساختار داده‌ها"
   ]
  },
  {
   "cell_type": "markdown",
   "id": "dfeb19b5",
   "metadata": {},
   "source": [
    "### بارگذاری داده‌ها و بررسی ساختار کلی فایل HDF5 (jet1_obs و jet1_cnsts)"
   ]
  },
  {
   "cell_type": "code",
   "execution_count": 2,
   "id": "f93d1fd8",
   "metadata": {},
   "outputs": [
    {
     "ename": "ModuleNotFoundError",
     "evalue": "No module named 'h5py'",
     "output_type": "error",
     "traceback": [
      "\u001b[0;31m---------------------------------------------------------------------------\u001b[0m",
      "\u001b[0;31mModuleNotFoundError\u001b[0m                       Traceback (most recent call last)",
      "\u001b[0;32m/tmp/ipykernel_6812/3962333901.py\u001b[0m in \u001b[0;36m<module>\u001b[0;34m\u001b[0m\n\u001b[0;32m----> 1\u001b[0;31m \u001b[0;32mimport\u001b[0m \u001b[0mh5py\u001b[0m\u001b[0;34m\u001b[0m\u001b[0;34m\u001b[0m\u001b[0m\n\u001b[0m\u001b[1;32m      2\u001b[0m \u001b[0;34m\u001b[0m\u001b[0m\n\u001b[1;32m      3\u001b[0m \u001b[0;31m# مسیر فایل نمونه (باید مسیر درست را جایگزین کنید)\u001b[0m\u001b[0;34m\u001b[0m\u001b[0;34m\u001b[0m\u001b[0m\n\u001b[1;32m      4\u001b[0m \u001b[0minput_file\u001b[0m \u001b[0;34m=\u001b[0m \u001b[0;34m\"h5files/QCDjj_pT_450_1200_train01.h5\"\u001b[0m\u001b[0;34m\u001b[0m\u001b[0;34m\u001b[0m\u001b[0m\n\u001b[1;32m      5\u001b[0m \u001b[0;34m\u001b[0m\u001b[0m\n",
      "\u001b[0;31mModuleNotFoundError\u001b[0m: No module named 'h5py'"
     ]
    }
   ],
   "source": [
    "import h5py\n",
    "\n",
    "# مسیر فایل نمونه (باید مسیر درست را جایگزین کنید)\n",
    "input_file = \"mini_QCDjj_pT_450_1200_train01.h5\"\n",
    "\n",
    "# باز کردن فایل و خواندن کلیدهای اصلی\n",
    "with h5py.File(input_file, \"r\") as f:\n",
    "    # لیست کلیدهای اصلی\n",
    "    print(\"Keys in file:\", list(f.keys()))\n",
    "    # کلیدهای زیرمجموعه در 'objects/jets'\n",
    "    print(\"Keys in 'objects/jets':\", list(f['objects/jets'].keys()))\n",
    "\n",
    "    # مشاهده شکل داده‌های jet1_obs و jet1_cnsts\n",
    "    jet1_obs = f['objects/jets/jet1_obs']\n",
    "    jet1_cnsts = f['objects/jets/jet1_cnsts']\n",
    "    print(\"jet1_obs shape:\", jet1_obs.shape)\n",
    "    print(\"jet1_cnsts shape:\", jet1_cnsts.shape)\n"
   ]
  },
  {
   "cell_type": "markdown",
   "id": "38e4ea1b",
   "metadata": {},
   "source": [
    "### بررسی و نمایش ویژگی‌های jet1_obs (ویژگی‌های سطح جت)"
   ]
  },
  {
   "cell_type": "code",
   "execution_count": null,
   "id": "b03fb68d",
   "metadata": {},
   "outputs": [],
   "source": [
    "import numpy as np\n",
    "\n",
    "# بارگذاری تعداد کمی از جت‌ها برای نمایش ویژگی‌ها\n",
    "n_events = 5\n",
    "\n",
    "with h5py.File(input_file, \"r\") as f:\n",
    "    jet1_obs = f['objects/jets/jet1_obs'][:n_events]\n",
    "\n",
    "# نمایش ماتریس ویژگی‌های جت‌ها\n",
    "print(\"jet1_obs (shape {}):\\n\".format(jet1_obs.shape), jet1_obs)\n",
    "\n",
    "# ویژگی‌ها به ترتیب:\n",
    "features = ['pt', 'eta', 'phi', 'mass', 'tau1', 'tau2', 'tau3', 'sqrt_d12', 'sqrt_d23', 'ECF2', 'ECF3']\n",
    "\n",
    "for i in range(n_events):\n",
    "    print(f\"\\nEvent {i+1}:\")\n",
    "    for j, feat in enumerate(features):\n",
    "        print(f\"  {feat}: {jet1_obs[i, j]:.4f}\")\n"
   ]
  },
  {
   "cell_type": "markdown",
   "id": "a9ed7ee0",
   "metadata": {},
   "source": [
    "### بارگذاری و بررسی مؤلفه‌های جت (jet1_cnsts) "
   ]
  },
  {
   "cell_type": "code",
   "execution_count": 3,
   "id": "72a88665",
   "metadata": {},
   "outputs": [
    {
     "ename": "NameError",
     "evalue": "name 'h5py' is not defined",
     "output_type": "error",
     "traceback": [
      "\u001b[0;31m---------------------------------------------------------------------------\u001b[0m",
      "\u001b[0;31mNameError\u001b[0m                                 Traceback (most recent call last)",
      "\u001b[0;32m/tmp/ipykernel_6812/3104216787.py\u001b[0m in \u001b[0;36m<module>\u001b[0;34m\u001b[0m\n\u001b[1;32m      3\u001b[0m \u001b[0mn_constituents\u001b[0m \u001b[0;34m=\u001b[0m \u001b[0;36m10\u001b[0m  \u001b[0;31m# فقط ۱۰ ذره اول برای نمایش\u001b[0m\u001b[0;34m\u001b[0m\u001b[0;34m\u001b[0m\u001b[0m\n\u001b[1;32m      4\u001b[0m \u001b[0;34m\u001b[0m\u001b[0m\n\u001b[0;32m----> 5\u001b[0;31m \u001b[0;32mwith\u001b[0m \u001b[0mh5py\u001b[0m\u001b[0;34m.\u001b[0m\u001b[0mFile\u001b[0m\u001b[0;34m(\u001b[0m\u001b[0minput_file\u001b[0m\u001b[0;34m,\u001b[0m \u001b[0;34m\"r\"\u001b[0m\u001b[0;34m)\u001b[0m \u001b[0;32mas\u001b[0m \u001b[0mf\u001b[0m\u001b[0;34m:\u001b[0m\u001b[0;34m\u001b[0m\u001b[0;34m\u001b[0m\u001b[0m\n\u001b[0m\u001b[1;32m      6\u001b[0m     \u001b[0mjet1_cnsts\u001b[0m \u001b[0;34m=\u001b[0m \u001b[0mf\u001b[0m\u001b[0;34m[\u001b[0m\u001b[0;34m'objects/jets/jet1_cnsts'\u001b[0m\u001b[0;34m]\u001b[0m\u001b[0;34m[\u001b[0m\u001b[0;34m:\u001b[0m\u001b[0mn_events\u001b[0m\u001b[0;34m,\u001b[0m \u001b[0;34m:\u001b[0m\u001b[0mn_constituents\u001b[0m\u001b[0;34m,\u001b[0m \u001b[0;34m:\u001b[0m\u001b[0;34m]\u001b[0m\u001b[0;34m\u001b[0m\u001b[0;34m\u001b[0m\u001b[0m\n\u001b[1;32m      7\u001b[0m \u001b[0;34m\u001b[0m\u001b[0m\n",
      "\u001b[0;31mNameError\u001b[0m: name 'h5py' is not defined"
     ]
    }
   ],
   "source": [
    "# تعداد ذرات مؤلفه برای بارگذاری\n",
    "n_events = 1\n",
    "n_constituents = 10  # فقط ۱۰ ذره اول برای نمایش\n",
    "\n",
    "with h5py.File(input_file, \"r\") as f:\n",
    "    jet1_cnsts = f['objects/jets/jet1_cnsts'][:n_events, :n_constituents, :]\n",
    "\n",
    "print(\"jet1_cnsts shape:\", jet1_cnsts.shape)\n",
    "print(\"jet1_cnsts sample data:\\n\", jet1_cnsts)\n"
   ]
  },
  {
   "cell_type": "markdown",
   "id": "261c4a13",
   "metadata": {},
   "source": [
    "###  بررسی وجود جت دوم (Subleading Jet) در فایل (برای SM processes)"
   ]
  },
  {
   "cell_type": "code",
   "execution_count": null,
   "id": "93a1e20b",
   "metadata": {},
   "outputs": [],
   "source": [
    "with h5py.File(input_file, \"r\") as f:\n",
    "    # بررسی وجود کلید jet2_obs و jet2_cnsts\n",
    "    keys = list(f['objects/jets'].keys())\n",
    "    print(\"Keys in 'objects/jets':\", keys)\n",
    "    if 'jet2_obs' in keys and 'jet2_cnsts' in keys:\n",
    "        jet2_obs = f['objects/jets/jet2_obs'][:5]\n",
    "        jet2_cnsts = f['objects/jets/jet2_cnsts'][:5]\n",
    "        print(\"jet2_obs shape:\", jet2_obs.shape)\n",
    "        print(\"jet2_cnsts shape:\", jet2_cnsts.shape)\n",
    "    else:\n",
    "        print(\"No subleading jets in this dataset.\")\n"
   ]
  },
  {
   "cell_type": "markdown",
   "id": "9d2e1d41",
   "metadata": {},
   "source": [
    "### مشاهده متریک‌های ساختار جت (N-subjettiness و Energy Correlation Functions)"
   ]
  },
  {
   "cell_type": "code",
   "execution_count": 4,
   "id": "affe993f",
   "metadata": {},
   "outputs": [
    {
     "ename": "NameError",
     "evalue": "name 'h5py' is not defined",
     "output_type": "error",
     "traceback": [
      "\u001b[0;31m---------------------------------------------------------------------------\u001b[0m",
      "\u001b[0;31mNameError\u001b[0m                                 Traceback (most recent call last)",
      "\u001b[0;32m/tmp/ipykernel_6812/1923001919.py\u001b[0m in \u001b[0;36m<module>\u001b[0;34m\u001b[0m\n\u001b[1;32m      1\u001b[0m \u001b[0;31m# بارگذاری تنها متریک‌ها از jet1_obs برای چند ایونت\u001b[0m\u001b[0;34m\u001b[0m\u001b[0;34m\u001b[0m\u001b[0m\n\u001b[1;32m      2\u001b[0m \u001b[0mn_events\u001b[0m \u001b[0;34m=\u001b[0m \u001b[0;36m3\u001b[0m\u001b[0;34m\u001b[0m\u001b[0;34m\u001b[0m\u001b[0m\n\u001b[0;32m----> 3\u001b[0;31m \u001b[0;32mwith\u001b[0m \u001b[0mh5py\u001b[0m\u001b[0;34m.\u001b[0m\u001b[0mFile\u001b[0m\u001b[0;34m(\u001b[0m\u001b[0minput_file\u001b[0m\u001b[0;34m,\u001b[0m \u001b[0;34m\"r\"\u001b[0m\u001b[0;34m)\u001b[0m \u001b[0;32mas\u001b[0m \u001b[0mf\u001b[0m\u001b[0;34m:\u001b[0m\u001b[0;34m\u001b[0m\u001b[0;34m\u001b[0m\u001b[0m\n\u001b[0m\u001b[1;32m      4\u001b[0m     \u001b[0mjet1_obs\u001b[0m \u001b[0;34m=\u001b[0m \u001b[0mf\u001b[0m\u001b[0;34m[\u001b[0m\u001b[0;34m'objects/jets/jet1_obs'\u001b[0m\u001b[0;34m]\u001b[0m\u001b[0;34m[\u001b[0m\u001b[0;34m:\u001b[0m\u001b[0mn_events\u001b[0m\u001b[0;34m]\u001b[0m\u001b[0;34m\u001b[0m\u001b[0;34m\u001b[0m\u001b[0m\n\u001b[1;32m      5\u001b[0m \u001b[0;34m\u001b[0m\u001b[0m\n",
      "\u001b[0;31mNameError\u001b[0m: name 'h5py' is not defined"
     ]
    }
   ],
   "source": [
    "# بارگذاری تنها متریک‌ها از jet1_obs برای چند ایونت\n",
    "n_events = 3\n",
    "with h5py.File(input_file, \"r\") as f:\n",
    "    jet1_obs = f['objects/jets/jet1_obs'][:n_events]\n",
    "\n",
    "# اندیس متریک‌ها در ساختار داده\n",
    "metric_indices = {\n",
    "    'tau1': 4,\n",
    "    'tau2': 5,\n",
    "    'tau3': 6,\n",
    "    'sqrt_d12': 7,\n",
    "    'sqrt_d23': 8,\n",
    "    'ECF2': 9,\n",
    "    'ECF3': 10\n",
    "}\n",
    "\n",
    "for i in range(n_events):\n",
    "    print(f\"\\nEvent {i+1}:\")\n",
    "    for metric, idx in metric_indices.items():\n",
    "        print(f\"  {metric}: {jet1_obs[i, idx]:.4f}\")\n"
   ]
  },
  {
   "cell_type": "markdown",
   "id": "d82be1dc",
   "metadata": {},
   "source": [
    "### بارگذاری و تحلیل ابتدایی داده‌های جت از فایل HDF5\n",
    "\n",
    "در این بخش، داده‌های مربوط به جت‌های حاصل از برخورد WZ → jjνν̄ از فایل `HDF5` خوانده می‌شوند و برخی ویژگی‌های آماری آن‌ها رسم می‌گردد.\n",
    "\n",
    "#### فایل‌های ورودی\n",
    "\n",
    "- `input_wz`: مسیر فایل `HDF5` شامل جت‌های WZ با محدوده‌ی \\(p_T\\) بین 450 تا 1200 GeV.\n",
    "- تعداد جت‌های قابل بارگذاری (`n_jets`) برابر با 100,000 در نظر گرفته شده است.\n",
    "\n",
    "#### تابع `load_jets`\n",
    "\n",
    "این تابع وظیفه دارد:\n",
    "1. داده‌های جت‌ها (`jet1_obs`) و مؤلفه‌های آن‌ها (`jet1_cnsts`) را از فایل بارگذاری کند.\n",
    "2. مؤلفه‌هایی که مقدار \\(p_T = 0\\) دارند را به عنوان مقدار **ماسک‌شده** در نظر بگیرد تا در محاسبات آماری لحاظ نشوند.\n",
    "\n",
    "#### خروجی تابع:\n",
    "- `jets`: آرایه‌ای با شکل `[N, 11]` شامل ویژگی‌های سطح جت (مانند \\(p_T\\)، η، φ، جرم و متریک‌های ساختار زیرجت).\n",
    "- `cnsts`: آرایه‌ای با شکل `[N, 100, 7]` شامل ویژگی‌های ۱۰۰ مؤلفه (ذره) تشکیل‌دهنده‌ی هر جت، به‌صورت ماسک‌شده.\n",
    "\n",
    "### رسم توزیع ویژگی‌ها\n",
    "\n",
    "#### 1. هیستوگرام \\(p_T\\) جت‌ها\n",
    "\n",
    "- محور x: اندازه حرکت عرضی (Transverse momentum) جت‌ها بر حسب GeV.\n",
    "- محور y: تعداد جت‌ها در هر بازه‌ی \\(p_T\\).\n",
    "\n",
    "#### 2. هیستوگرام تعداد مؤلفه‌ها (constituents)\n",
    "\n",
    "- محور x: تعداد ذرات داخل هر جت که مقدار \\(p_T > 0\\) دارند.\n",
    "- محور y: تعداد جت‌هایی که آن تعداد مؤلفه دارند.\n",
    "- استفاده از `cnsts.count(axis=1)[:, 0]` برای شمارش مؤلفه‌های غیر صفر.\n",
    "\n",
    "---\n",
    "\n"
   ]
  },
  {
   "cell_type": "code",
   "execution_count": 3,
   "id": "d652b9d4",
   "metadata": {},
   "outputs": [
    {
     "data": {
      "image/png": "[encoded data removed]",
      "text/plain": [
       "<Figure size 640x480 with 1 Axes>"
      ]
     },
     "metadata": {},
     "output_type": "display_data"
    },
    {
     "data": {
      "image/png": "[encoded data removed]",
      "text/plain": [
       "<Figure size 640x480 with 1 Axes>"
      ]
     },
     "metadata": {},
     "output_type": "display_data"
    }
   ],
   "source": [
    "import h5py\n",
    "import numpy as np\n",
    "import matplotlib.pyplot as plt\n",
    "\n",
    "# The input HDF5 file containing the QCD jets.\n",
    "input_qcd = \"mini_QCDjj_pT_450_1200_train01.h5\"\n",
    "input_wz = \"mini_WZ_jjnunu_pT_450_1200_test.h5\"\n",
    "# The number of jets to load.\n",
    "n_jets = 100_000\n",
    "\n",
    "\n",
    "def load_jets(ifile: str, n_jets: int):\n",
    "    \"\"\"Load jets and constituents from an HDF5 file.\"\"\"\n",
    "    with h5py.File(ifile, \"r\") as f:\n",
    "        cnsts = f[\"objects/jets/jet1_cnsts\"][:n_jets]\n",
    "        jets = f[\"objects/jets/jet1_obs\"][:n_jets]\n",
    "\n",
    "    zeros = np.repeat(cnsts[:, :, 0] == 0, cnsts.shape[2])\n",
    "    zeros = zeros.reshape(-1, cnsts.shape[1], cnsts.shape[2])\n",
    "    cnsts = np.ma.masked_where(zeros, cnsts)\n",
    "    return jets, cnsts\n",
    "\n",
    "qcd_jets, qcd_constituents = load_jets(input_wz, n_jets=n_jets)\n",
    "\n",
    "# Plot the transverse momentum of the jets.\n",
    "plt.hist(qcd_jets[:, 0], label=\"QCD jets\", bins=30)\n",
    "plt.xlabel(r\"$p_{\\mathrm{T}}$ [GeV]\")\n",
    "plt.ylabel(\"Number of jets\")\n",
    "plt.show()\n",
    "\n",
    "# Plot the number of constituents in the jets.\n",
    "plt.hist(qcd_constituents.count(axis=1)[:, 0], label=\"QCD jets\", bins=100, range=(0.5, 100.5))\n",
    "plt.xlabel(\"Number of constituents\")\n",
    "plt.ylabel(\"Number of jets\")\n",
    "plt.show()"
   ]
  },
  {
   "cell_type": "markdown",
   "id": "49554f5e",
   "metadata": {},
   "source": [
    "### 📈 خروجی‌های تحلیل آماری اولیه جت‌ها\n",
    "\n",
    "#### 🔹 توزیع \\( p_T \\) جت‌ها (Transverse Momentum)\n",
    "\n",
    "- نمودار هیستوگرام \\( p_T \\) نشان می‌دهد که بیشتر جت‌های موجود در این نمونه داده، در بازه‌ی میانی محدوده‌ی انتخاب‌شده \\( [450, 1200] \\, \\text{GeV} \\) قرار دارند.\n",
    "- شکل کلی توزیع به‌صورت یک منحنی تک‌قله‌ای (unimodal) است.\n",
    "- این توزیع با انتظار فیزیکی از فرایندهای WZ که منجر به تولید جت با انرژی بالا می‌شوند، سازگار است.\n",
    "\n",
    "---\n",
    "\n",
    "#### 🔹 تعداد مؤلفه‌ها (Constituents) در هر جت\n",
    "\n",
    "- نمودار دوم توزیع تعداد مؤلفه‌ها (constituents) در جت‌ها را نشان می‌دهد.\n",
    "- این توزیع معمولاً در بازه‌ی [20, 80] پیک دارد و بیشتر جت‌ها دارای حدود 40–60 مؤلفه هستند.\n",
    "- با توجه به اینکه فقط 100 مؤلفه با بیشترین \\( p_T \\) در داده ذخیره شده‌اند، این مقدار کمتر از 100 در اکثر جت‌ها انتظار می‌رود.\n",
    "- این اطلاعات در انتخاب ویژگی برای مدل‌های یادگیری ماشین بسیار مهم است، زیرا جت‌ها دارای ابعاد ورودی متغیر (variable-length) هستند که نیازمند padding یا masking خواهند بود.\n",
    "\n",
    "---\n",
    "\n"
   ]
  },
  {
   "cell_type": "code",
   "execution_count": 15,
   "id": "1c0bec06",
   "metadata": {},
   "outputs": [
    {
     "name": "stdout",
     "output_type": "stream",
     "text": [
      "(10, 11)\n",
      "(10, 100, 7)\n"
     ]
    }
   ],
   "source": [
    "def load_jets2(ifile: str, n_jets: int):\n",
    "    \"\"\"Load jets and constituents from an HDF5 file.\"\"\"\n",
    "    with h5py.File(ifile, \"r\") as f:\n",
    "        cnsts = f[\"objects/jets/jet1_cnsts\"][:n_jets]\n",
    "        jets = f[\"objects/jets/jet1_obs\"][:n_jets]\n",
    "\n",
    "    return jets, cnsts\n",
    "\n",
    "qcd_jets, qcd_constituents = load_jets(input_wz, n_jets=10)\n",
    "print(qcd_jets.shape)\n",
    "print(qcd_constituents.shape)"
   ]
  },
  {
   "cell_type": "code",
   "execution_count": 8,
   "id": "5f9e82ce",
   "metadata": {},
   "outputs": [],
   "source": [
    "zeros = qcd_constituents[:, :, 0] == 0"
   ]
  },
  {
   "cell_type": "code",
   "execution_count": 9,
   "id": "7564388b",
   "metadata": {},
   "outputs": [
    {
     "data": {
      "text/plain": [
       "(10, 100)"
      ]
     },
     "execution_count": 9,
     "metadata": {},
     "output_type": "execute_result"
    }
   ],
   "source": [
    "zeros.shape"
   ]
  },
  {
   "cell_type": "code",
   "execution_count": 10,
   "id": "23167dae",
   "metadata": {},
   "outputs": [
    {
     "data": {
      "text/plain": [
       "array([[False, False, False, False, False, False, False, False, False,\n",
       "        False, False, False, False, False, False, False, False, False,\n",
       "         True,  True,  True,  True,  True,  True,  True,  True,  True,\n",
       "         True,  True,  True,  True,  True,  True,  True,  True,  True,\n",
       "         True,  True,  True,  True,  True,  True,  True,  True,  True,\n",
       "         True,  True,  True,  True,  True,  True,  True,  True,  True,\n",
       "         True,  True,  True,  True,  True,  True,  True,  True,  True,\n",
       "         True,  True,  True,  True,  True,  True,  True,  True,  True,\n",
       "         True,  True,  True,  True,  True,  True,  True,  True,  True,\n",
       "         True,  True,  True,  True,  True,  True,  True,  True,  True,\n",
       "         True,  True,  True,  True,  True,  True,  True,  True,  True,\n",
       "         True],\n",
       "       [False, False, False, False, False, False, False, False, False,\n",
       "        False, False, False, False, False, False, False, False, False,\n",
       "        False, False, False, False, False, False, False, False, False,\n",
       "        False, False, False, False, False, False, False, False, False,\n",
       "         True,  True,  True,  True,  True,  True,  True,  True,  True,\n",
       "         True,  True,  True,  True,  True,  True,  True,  True,  True,\n",
       "         True,  True,  True,  True,  True,  True,  True,  True,  True,\n",
       "         True,  True,  True,  True,  True,  True,  True,  True,  True,\n",
       "         True,  True,  True,  True,  True,  True,  True,  True,  True,\n",
       "         True,  True,  True,  True,  True,  True,  True,  True,  True,\n",
       "         True,  True,  True,  True,  True,  True,  True,  True,  True,\n",
       "         True],\n",
       "       [False, False, False, False, False, False, False, False, False,\n",
       "        False, False, False, False, False, False, False, False, False,\n",
       "        False, False, False, False, False, False, False, False, False,\n",
       "        False, False, False, False, False, False, False, False, False,\n",
       "        False, False, False, False, False, False,  True,  True,  True,\n",
       "         True,  True,  True,  True,  True,  True,  True,  True,  True,\n",
       "         True,  True,  True,  True,  True,  True,  True,  True,  True,\n",
       "         True,  True,  True,  True,  True,  True,  True,  True,  True,\n",
       "         True,  True,  True,  True,  True,  True,  True,  True,  True,\n",
       "         True,  True,  True,  True,  True,  True,  True,  True,  True,\n",
       "         True,  True,  True,  True,  True,  True,  True,  True,  True,\n",
       "         True],\n",
       "       [False, False, False, False, False, False, False, False, False,\n",
       "        False, False, False, False, False, False, False, False, False,\n",
       "        False, False, False, False, False, False, False, False, False,\n",
       "        False, False, False, False, False, False, False, False, False,\n",
       "        False, False, False, False, False, False, False, False, False,\n",
       "        False, False, False, False, False, False, False, False, False,\n",
       "        False, False, False,  True,  True,  True,  True,  True,  True,\n",
       "         True,  True,  True,  True,  True,  True,  True,  True,  True,\n",
       "         True,  True,  True,  True,  True,  True,  True,  True,  True,\n",
       "         True,  True,  True,  True,  True,  True,  True,  True,  True,\n",
       "         True,  True,  True,  True,  True,  True,  True,  True,  True,\n",
       "         True],\n",
       "       [False, False, False, False, False, False, False, False, False,\n",
       "        False, False, False, False, False, False, False, False, False,\n",
       "        False, False, False, False, False, False, False, False, False,\n",
       "        False, False, False, False, False, False, False, False, False,\n",
       "        False, False, False,  True,  True,  True,  True,  True,  True,\n",
       "         True,  True,  True,  True,  True,  True,  True,  True,  True,\n",
       "         True,  True,  True,  True,  True,  True,  True,  True,  True,\n",
       "         True,  True,  True,  True,  True,  True,  True,  True,  True,\n",
       "         True,  True,  True,  True,  True,  True,  True,  True,  True,\n",
       "         True,  True,  True,  True,  True,  True,  True,  True,  True,\n",
       "         True,  True,  True,  True,  True,  True,  True,  True,  True,\n",
       "         True],\n",
       "       [False, False, False, False, False, False, False, False, False,\n",
       "        False, False, False, False, False, False, False, False, False,\n",
       "        False, False, False, False, False, False, False, False, False,\n",
       "        False, False, False, False, False, False, False, False, False,\n",
       "        False, False, False, False, False, False, False, False, False,\n",
       "        False, False, False, False, False, False, False, False, False,\n",
       "        False, False, False, False, False, False, False, False, False,\n",
       "        False, False, False, False, False, False, False,  True,  True,\n",
       "         True,  True,  True,  True,  True,  True,  True,  True,  True,\n",
       "         True,  True,  True,  True,  True,  True,  True,  True,  True,\n",
       "         True,  True,  True,  True,  True,  True,  True,  True,  True,\n",
       "         True],\n",
       "       [False, False, False, False, False, False, False, False, False,\n",
       "        False, False, False, False, False, False, False, False, False,\n",
       "        False, False, False, False, False, False, False, False, False,\n",
       "        False,  True,  True,  True,  True,  True,  True,  True,  True,\n",
       "         True,  True,  True,  True,  True,  True,  True,  True,  True,\n",
       "         True,  True,  True,  True,  True,  True,  True,  True,  True,\n",
       "         True,  True,  True,  True,  True,  True,  True,  True,  True,\n",
       "         True,  True,  True,  True,  True,  True,  True,  True,  True,\n",
       "         True,  True,  True,  True,  True,  True,  True,  True,  True,\n",
       "         True,  True,  True,  True,  True,  True,  True,  True,  True,\n",
       "         True,  True,  True,  True,  True,  True,  True,  True,  True,\n",
       "         True],\n",
       "       [False, False, False, False, False, False, False, False, False,\n",
       "        False, False, False, False, False, False, False, False, False,\n",
       "        False, False, False, False, False, False, False, False, False,\n",
       "        False, False, False, False, False, False, False, False,  True,\n",
       "         True,  True,  True,  True,  True,  True,  True,  True,  True,\n",
       "         True,  True,  True,  True,  True,  True,  True,  True,  True,\n",
       "         True,  True,  True,  True,  True,  True,  True,  True,  True,\n",
       "         True,  True,  True,  True,  True,  True,  True,  True,  True,\n",
       "         True,  True,  True,  True,  True,  True,  True,  True,  True,\n",
       "         True,  True,  True,  True,  True,  True,  True,  True,  True,\n",
       "         True,  True,  True,  True,  True,  True,  True,  True,  True,\n",
       "         True],\n",
       "       [False, False, False, False, False, False, False, False, False,\n",
       "        False, False, False, False, False, False, False, False, False,\n",
       "        False, False, False, False, False, False, False, False, False,\n",
       "        False, False, False, False,  True,  True,  True,  True,  True,\n",
       "         True,  True,  True,  True,  True,  True,  True,  True,  True,\n",
       "         True,  True,  True,  True,  True,  True,  True,  True,  True,\n",
       "         True,  True,  True,  True,  True,  True,  True,  True,  True,\n",
       "         True,  True,  True,  True,  True,  True,  True,  True,  True,\n",
       "         True,  True,  True,  True,  True,  True,  True,  True,  True,\n",
       "         True,  True,  True,  True,  True,  True,  True,  True,  True,\n",
       "         True,  True,  True,  True,  True,  True,  True,  True,  True,\n",
       "         True],\n",
       "       [False, False, False, False, False, False, False, False, False,\n",
       "        False, False, False, False, False, False, False, False, False,\n",
       "        False, False, False, False, False, False, False, False, False,\n",
       "        False, False, False, False, False, False, False, False, False,\n",
       "        False, False, False, False, False, False, False, False, False,\n",
       "        False, False, False, False, False, False, False,  True,  True,\n",
       "         True,  True,  True,  True,  True,  True,  True,  True,  True,\n",
       "         True,  True,  True,  True,  True,  True,  True,  True,  True,\n",
       "         True,  True,  True,  True,  True,  True,  True,  True,  True,\n",
       "         True,  True,  True,  True,  True,  True,  True,  True,  True,\n",
       "         True,  True,  True,  True,  True,  True,  True,  True,  True,\n",
       "         True]])"
      ]
     },
     "execution_count": 10,
     "metadata": {},
     "output_type": "execute_result"
    }
   ],
   "source": [
    "zeros"
   ]
  },
  {
   "cell_type": "markdown",
   "id": "a2278e67",
   "metadata": {},
   "source": [
    "## چرا از صفحه‌ی η–φ (اتا–فی) برای نمایش و تحلیل جت‌ها استفاده می‌کنیم؟\n",
    "\n",
    "در فیزیک ذرات، به‌ویژه در تحلیل داده‌های برخورددهنده‌هایی مانند LHC، استفاده از **صفحه‌ی η–φ (شبه‌شتاب–زاویه‌ی آزیموتال)** بسیار رایج و ضروری است. در ادامه دلایل فیزیکی و عملی آن آورده شده است:\n",
    "\n",
    "---\n",
    "\n",
    "### 1. ناوردا بودن نسبت به boosts در راستای پرتو\n",
    "\n",
    "- کمیت η (pseudo-rapidity) نسبت به تغییر چارچوب مرجع در امتداد محور z (راستای پرتو) **ناوردا** است.\n",
    "- این ویژگی باعث می‌شود که الگوهای جت‌ها و توزیع‌های فضایی ذرات بدون نیاز به اصلاح برای boost بین چارچوب‌های مختلف قابل مقایسه باشند.\n",
    "- این موضوع در تحلیل برخوردهای پرانرژی که برخوردها در چارچوب‌های مختلف رخ می‌دهند، حیاتی است.\n",
    "\n",
    "---\n",
    "\n",
    "### 2. نمایش زاویه‌ای فشرده، فیزیکی و کامل\n",
    "\n",
    "- صفحه‌ی η–φ به‌صورت یک نمایش ۲بعدی از آشکارساز عمل می‌کند، مشابه تصویر روی سطح استوانه‌ای اطراف نقطه‌ی برخورد.\n",
    "- η محور عمودی (نشان‌دهنده زاویه نسبت به پرتوی برخورد) و φ زاویه‌ی آزیموتال (در صفحه عرضی) است.\n",
    "- با این نمایش، ذراتی که در فضای سه‌بعدی پراکنده‌اند به‌صورت دوبعدی نمایش داده می‌شوند، بدون از دست رفتن اطلاعات زاویه‌ای.\n",
    "\n",
    "---\n",
    "\n",
    "### 3. قابل استفاده در تصویرسازی، یادگیری ماشین و الگوریتم‌های تشخیص\n",
    "\n",
    "- می‌توان با نمایش η–φ، **ساختار فضایی جت‌ها** را مشابه تصویر پیکسل‌بندی شده تحلیل کرد.\n",
    "- این نمایش پایه‌ای برای استفاده از:\n",
    "  - شبکه‌های عصبی کانولوشنی (CNN)\n",
    "  - autoencoderها\n",
    "  - تشخیص الگوهای جت (substructure tagging)\n",
    "\n",
    "---\n",
    "\n",
    "### 4. استانداردسازی نمایش جت‌ها در تحلیل‌های ATLAS / CMS\n",
    "\n",
    "- نمایش توزیع انرژی و مؤلفه‌های جت روی صفحه‌ی η–φ در مقالات و نرم‌افزارهای رسمی تجربه شده و به‌عنوان استاندارد استفاده می‌شود.\n",
    "- برای الگوریتم‌های بازسازی جت، تفکیک کوارک و گلئون، و مطالعات بوزون‌های سنگین مانند W، Z، Higgs این روش نمایش ضروری است.\n",
    "\n",
    "---\n",
    "\n",
    "✅ **نتیجه‌گیری:** استفاده از صفحه‌ی η–φ یک روش مؤثر، فیزیکی و محاسباتی برای نمایش، تحلیل و پردازش داده‌های جت است و تقریباً در تمام تحلیل‌های فیزیک ذرات به‌کار گرفته می‌شود.\n"
   ]
  },
  {
   "cell_type": "code",
   "execution_count": 24,
   "id": "8e2fe007",
   "metadata": {},
   "outputs": [
    {
     "data": {
      "text/plain": [
       "<matplotlib.colorbar.Colorbar at 0x7f58f4b615e0>"
      ]
     },
     "execution_count": 24,
     "metadata": {},
     "output_type": "execute_result"
    },
    {
     "data": {
      "image/png": "[encoded data removed]",
      "text/plain": [
       "<Figure size 640x480 with 2 Axes>"
      ]
     },
     "metadata": {},
     "output_type": "display_data"
    }
   ],
   "source": [
    "min_eta = np.min( qcd_constituents[0, : , 1] )\n",
    "max_eta = np.max( qcd_constituents[0, : , 1] )\n",
    "\n",
    "min_phi = np.min( qcd_constituents[0, : , 2] )\n",
    "max_phi = np.max( qcd_constituents[0, : , 2] )\n",
    "\n",
    "etas = np.linspace(min_eta, max_eta, 100)\n",
    "phis = np.linspace(min_phi, max_phi, 100)\n",
    "\n",
    "# zeros = np.repeat(qcd_constituents[0, :, 0] == 0, 7 )\n",
    "# zeros = zeros.reshape(1, qcd_constituents.shape[1], qcd_constituents.shape[2])\n",
    "# cnsts = np.ma.masked_where(zeros, qcd_constituents[0])\n",
    "\n",
    "plt.hist2d(qcd_constituents[0, :, 1] , qcd_constituents[0, :, 2], bins=(etas, phis) , weights=qcd_constituents[0, :, 0] , norm='log')\n",
    "plt.colorbar()\n",
    "#plt.zlog()"
   ]
  },
  {
   "cell_type": "code",
   "execution_count": 22,
   "id": "ae773701",
   "metadata": {},
   "outputs": [
    {
     "data": {
      "text/plain": [
       "603.4741262416932"
      ]
     },
     "execution_count": 22,
     "metadata": {},
     "output_type": "execute_result"
    }
   ],
   "source": [
    "qcd_jets[0,0]"
   ]
  },
  {
   "cell_type": "code",
   "execution_count": null,
   "id": "da57a927",
   "metadata": {},
   "outputs": [],
   "source": []
  }
 ],
 "metadata": {
  "kernelspec": {
   "display_name": "Python 3",
   "language": "python",
   "name": "python3"
  },
  "language_info": {
   "codemirror_mode": {
    "name": "ipython",
    "version": 3
   },
   "file_extension": ".py",
   "mimetype": "text/x-python",
   "name": "python",
   "nbconvert_exporter": "python",
   "pygments_lexer": "ipython3",
   "version": "3.10.12"
  }
 },
 "nbformat": 4,
 "nbformat_minor": 5
}
